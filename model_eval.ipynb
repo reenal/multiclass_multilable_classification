{
 "cells": [
  {
   "cell_type": "code",
   "execution_count": null,
   "id": "5796b27e",
   "metadata": {},
   "outputs": [],
   "source": [
    "import numpy as np\n",
    "import pandas as pd"
   ]
  },
  {
   "cell_type": "code",
   "execution_count": null,
   "id": "6a9e66b3",
   "metadata": {},
   "outputs": [],
   "source": [
    "y_true =  [[0 ,1 ,1, 1],[0, 0, 1, 0], [1, 1 ,0 ,0]]\n",
    "\n",
    "y_pred =  [[0, 1, 0, 1],[0 ,1,1 ,1],[1 ,0, 1 ,1]]"
   ]
  },
  {
   "cell_type": "code",
   "execution_count": null,
   "id": "e32767bd",
   "metadata": {},
   "outputs": [],
   "source": [
    "#y_true= np.array([[1,2,0,1], [0,4], [3], [1,2]], dtype=object)\n",
    "#y_pred= np.array([[1,1,0,1], [1,4], [2], [1,3]], dtype=object)\n",
    "\n",
    "y_true= np.array([[1,2,0,1],\n",
    "       [0,4],\n",
    "       [3],\n",
    "       [1,2]],dtype=object)\n",
    "\n",
    "y_pred= np.array([[1,1,0,1],\n",
    "       [1,4],\n",
    "       [2],\n",
    "       [1,3]],dtype=object )"
   ]
  },
  {
   "cell_type": "code",
   "execution_count": null,
   "id": "9ccde23f",
   "metadata": {},
   "outputs": [],
   "source": [
    "#y_true = np.array(y_true)\n",
    "#y_pred = np.array(y_pred)\n",
    "#y_true = np.asarray(y_true)\n",
    "#y_pred = np.asarray(y_pred)"
   ]
  },
  {
   "cell_type": "code",
   "execution_count": null,
   "id": "96711be0",
   "metadata": {},
   "outputs": [],
   "source": [
    "y_true = np.array(\n",
    "    [\n",
    "        [1, 2, 3],\n",
    "        [0, 2],\n",
    "        [1],\n",
    "        [2, 3],\n",
    "        [1, 0],\n",
    "        []\n",
    "    ]\n",
    ")\n",
    "\n",
    "\n",
    "y_pred = np.array(\n",
    "    [\n",
    "        [0, 1, 2],\n",
    "        [1],\n",
    "        [0, 2, 3],\n",
    "        [2, 3, 4, 0],\n",
    "        [0, 1, 2],\n",
    "        [0]\n",
    "    ]\n",
    ")\n",
    "\n",
    "#y_true = pd.DataFrame(y_true, index =['0', '1', '2', '3', '4','5'])\n",
    "\n",
    "#y_pred = pd.DataFrame(y_pred, index =['0', '1', '2', '3', '4','5'])"
   ]
  },
  {
   "cell_type": "code",
   "execution_count": null,
   "id": "501a7d46",
   "metadata": {},
   "outputs": [],
   "source": [
    "type(y_true)"
   ]
  },
  {
   "cell_type": "code",
   "execution_count": null,
   "id": "fb94472c",
   "metadata": {},
   "outputs": [],
   "source": [
    "# Exact Match Ratio (EMR)\n",
    "\n",
    "def emr(y_true, y_pred):\n",
    "    n = len(y_true)\n",
    "    row_indicators = np.all(y_true == y_pred, axis = 1) # axis = 1 will check for equality along rows.\n",
    "    exact_match_count = np.sum(row_indicators)\n",
    "    return exact_match_count/n\n",
    "\n",
    "print(emr(y_true,y_pred))"
   ]
  },
  {
   "cell_type": "code",
   "execution_count": null,
   "id": "20317a81",
   "metadata": {},
   "outputs": [],
   "source": []
  },
  {
   "cell_type": "code",
   "execution_count": null,
   "id": "c038a3da",
   "metadata": {},
   "outputs": [],
   "source": []
  }
 ],
 "metadata": {
  "kernelspec": {
   "display_name": "multilable",
   "language": "python",
   "name": "python3"
  },
  "language_info": {
   "codemirror_mode": {
    "name": "ipython",
    "version": 3
   },
   "file_extension": ".py",
   "mimetype": "text/x-python",
   "name": "python",
   "nbconvert_exporter": "python",
   "pygments_lexer": "ipython3",
   "version": "3.9.7"
  },
  "vscode": {
   "interpreter": {
    "hash": "e657539f3d25048173098aff08e05039981fc6dcb468aae39f1f55d308440b48"
   }
  }
 },
 "nbformat": 4,
 "nbformat_minor": 5
}
