{
 "cells": [
  {
   "cell_type": "markdown",
   "id": "e0572b28",
   "metadata": {},
   "source": [
    "# Techniques for Solving a Multi-Label Classification Problem\n",
    "# 1)Problem Transformation Method\n",
    "# 2)Adapted Algorithm Method\n",
    "# 3)Ensemble Approaches"
   ]
  },
  {
   "cell_type": "code",
   "execution_count": null,
   "id": "af483108",
   "metadata": {},
   "outputs": [],
   "source": []
  },
  {
   "cell_type": "markdown",
   "id": "f6cd1780",
   "metadata": {},
   "source": [
    "# Problem Transformation Method"
   ]
  },
  {
   "cell_type": "code",
   "execution_count": 1,
   "id": "f319d223",
   "metadata": {},
   "outputs": [],
   "source": [
    "import pandas as pd\n",
    "import numpy as np"
   ]
  },
  {
   "cell_type": "code",
   "execution_count": 2,
   "id": "bf1974ce",
   "metadata": {},
   "outputs": [],
   "source": [
    "df = pd.read_csv(\"dataset-tags.csv\")"
   ]
  },
  {
   "cell_type": "code",
   "execution_count": 3,
   "id": "e33a15cf",
   "metadata": {},
   "outputs": [
    {
     "data": {
      "text/html": [
       "<div>\n",
       "<style scoped>\n",
       "    .dataframe tbody tr th:only-of-type {\n",
       "        vertical-align: middle;\n",
       "    }\n",
       "\n",
       "    .dataframe tbody tr th {\n",
       "        vertical-align: top;\n",
       "    }\n",
       "\n",
       "    .dataframe thead th {\n",
       "        text-align: right;\n",
       "    }\n",
       "</style>\n",
       "<table border=\"1\" class=\"dataframe\">\n",
       "  <thead>\n",
       "    <tr style=\"text-align: right;\">\n",
       "      <th></th>\n",
       "      <th>title</th>\n",
       "      <th>tags</th>\n",
       "      <th>mysql</th>\n",
       "      <th>python</th>\n",
       "      <th>php</th>\n",
       "    </tr>\n",
       "  </thead>\n",
       "  <tbody>\n",
       "    <tr>\n",
       "      <th>0</th>\n",
       "      <td>Flask-SQLAlchemy - When are the tables/databas...</td>\n",
       "      <td>['python', 'mysql']</td>\n",
       "      <td>1</td>\n",
       "      <td>1.0</td>\n",
       "      <td>0.0</td>\n",
       "    </tr>\n",
       "    <tr>\n",
       "      <th>1</th>\n",
       "      <td>Combining two PHP variables for MySQL query</td>\n",
       "      <td>['php', 'mysql']</td>\n",
       "      <td>1</td>\n",
       "      <td>0.0</td>\n",
       "      <td>1.0</td>\n",
       "    </tr>\n",
       "    <tr>\n",
       "      <th>2</th>\n",
       "      <td>'Counting' the number of records that match a ...</td>\n",
       "      <td>['php', 'mysql']</td>\n",
       "      <td>1</td>\n",
       "      <td>0.0</td>\n",
       "      <td>1.0</td>\n",
       "    </tr>\n",
       "    <tr>\n",
       "      <th>3</th>\n",
       "      <td>Insert new row in a table and auto id number. ...</td>\n",
       "      <td>['php', 'mysql']</td>\n",
       "      <td>1</td>\n",
       "      <td>0.0</td>\n",
       "      <td>1.0</td>\n",
       "    </tr>\n",
       "    <tr>\n",
       "      <th>4</th>\n",
       "      <td>Create Multiple MySQL tables using PHP</td>\n",
       "      <td>['php', 'mysql']</td>\n",
       "      <td>1</td>\n",
       "      <td>0.0</td>\n",
       "      <td>1.0</td>\n",
       "    </tr>\n",
       "  </tbody>\n",
       "</table>\n",
       "</div>"
      ],
      "text/plain": [
       "                                               title                 tags  \\\n",
       "0  Flask-SQLAlchemy - When are the tables/databas...  ['python', 'mysql']   \n",
       "1        Combining two PHP variables for MySQL query     ['php', 'mysql']   \n",
       "2  'Counting' the number of records that match a ...     ['php', 'mysql']   \n",
       "3  Insert new row in a table and auto id number. ...     ['php', 'mysql']   \n",
       "4             Create Multiple MySQL tables using PHP     ['php', 'mysql']   \n",
       "\n",
       "   mysql  python  php  \n",
       "0      1     1.0  0.0  \n",
       "1      1     0.0  1.0  \n",
       "2      1     0.0  1.0  \n",
       "3      1     0.0  1.0  \n",
       "4      1     0.0  1.0  "
      ]
     },
     "execution_count": 3,
     "metadata": {},
     "output_type": "execute_result"
    }
   ],
   "source": [
    "df.head()"
   ]
  },
  {
   "cell_type": "code",
   "execution_count": 4,
   "id": "d7183716",
   "metadata": {},
   "outputs": [
    {
     "data": {
      "text/plain": [
       "title      object\n",
       "tags       object\n",
       "mysql       int64\n",
       "python    float64\n",
       "php       float64\n",
       "dtype: object"
      ]
     },
     "execution_count": 4,
     "metadata": {},
     "output_type": "execute_result"
    }
   ],
   "source": [
    "df.dtypes"
   ]
  },
  {
   "cell_type": "code",
   "execution_count": 5,
   "id": "f811920d",
   "metadata": {},
   "outputs": [],
   "source": [
    "df['mysql'] = df['mysql'].astype(float)"
   ]
  },
  {
   "cell_type": "code",
   "execution_count": 6,
   "id": "175608e2",
   "metadata": {},
   "outputs": [],
   "source": [
    "from sklearn.naive_bayes import GaussianNB,MultinomialNB\n",
    "from sklearn.metrics import accuracy_score,hamming_loss\n",
    "from sklearn.model_selection import train_test_split\n",
    "from sklearn.feature_extraction.text import TfidfVectorizer"
   ]
  },
  {
   "cell_type": "code",
   "execution_count": 7,
   "id": "1263cfca",
   "metadata": {},
   "outputs": [],
   "source": [
    "from skmultilearn.problem_transform import BinaryRelevance\n",
    "from skmultilearn.problem_transform import ClassifierChain\n",
    "from skmultilearn.problem_transform import LabelPowerset"
   ]
  },
  {
   "cell_type": "code",
   "execution_count": null,
   "id": "dca51f3e",
   "metadata": {},
   "outputs": [],
   "source": []
  },
  {
   "cell_type": "code",
   "execution_count": 8,
   "id": "c0982e67",
   "metadata": {},
   "outputs": [],
   "source": [
    "import neattext as nt\n",
    "import neattext.functions as nfx"
   ]
  },
  {
   "cell_type": "code",
   "execution_count": null,
   "id": "5892b844",
   "metadata": {},
   "outputs": [],
   "source": []
  },
  {
   "cell_type": "code",
   "execution_count": 9,
   "id": "dd7c867d",
   "metadata": {},
   "outputs": [
    {
     "data": {
      "text/plain": [
       "0      {'text_noise': 11.267605633802818, 'text_lengt...\n",
       "1      {'text_noise': 4.651162790697675, 'text_length...\n",
       "2      {'text_noise': 9.90990990990991, 'text_length'...\n",
       "3      {'text_noise': 8.47457627118644, 'text_length'...\n",
       "4      {'text_noise': 2.631578947368421, 'text_length...\n",
       "                             ...                        \n",
       "139    {'text_noise': 26.41509433962264, 'text_length...\n",
       "140    {'text_noise': 3.8461538461538463, 'text_lengt...\n",
       "141    {'text_noise': 6.666666666666667, 'text_length...\n",
       "142    {'text_noise': 13.636363636363635, 'text_lengt...\n",
       "143    {'text_noise': 7.142857142857142, 'text_length...\n",
       "Name: title, Length: 144, dtype: object"
      ]
     },
     "execution_count": 9,
     "metadata": {},
     "output_type": "execute_result"
    }
   ],
   "source": [
    "df['title'].apply(lambda x:nt.TextFrame(x).noise_scan())"
   ]
  },
  {
   "cell_type": "code",
   "execution_count": null,
   "id": "f6f30c6f",
   "metadata": {},
   "outputs": [],
   "source": []
  },
  {
   "cell_type": "code",
   "execution_count": 10,
   "id": "18e44d02",
   "metadata": {},
   "outputs": [
    {
     "data": {
      "text/plain": [
       "(144, 5)"
      ]
     },
     "execution_count": 10,
     "metadata": {},
     "output_type": "execute_result"
    }
   ],
   "source": [
    "df.shape"
   ]
  },
  {
   "cell_type": "code",
   "execution_count": null,
   "id": "4565c7d4",
   "metadata": {},
   "outputs": [],
   "source": []
  },
  {
   "cell_type": "code",
   "execution_count": 11,
   "id": "4704a7ae",
   "metadata": {},
   "outputs": [
    {
     "data": {
      "text/plain": [
       "0                                [when, are, the, and]\n",
       "1                                           [two, for]\n",
       "2                    [the, of, that, a, and, the, and]\n",
       "3                                    [in, a, and, and]\n",
       "4                                              [using]\n",
       "                            ...                       \n",
       "139                                 [where, in, using]\n",
       "140                                               [to]\n",
       "141                                  [and, get, using]\n",
       "142    [how, to, the, of, a, with, a, back, into, the]\n",
       "143                                           [in, if]\n",
       "Name: title, Length: 144, dtype: object"
      ]
     },
     "execution_count": 11,
     "metadata": {},
     "output_type": "execute_result"
    }
   ],
   "source": [
    "df['title'].apply(lambda x:nt.TextExtractor(x).extract_stopwords())"
   ]
  },
  {
   "cell_type": "code",
   "execution_count": null,
   "id": "d68b404c",
   "metadata": {},
   "outputs": [],
   "source": []
  },
  {
   "cell_type": "code",
   "execution_count": 12,
   "id": "9a6e88a0",
   "metadata": {},
   "outputs": [
    {
     "data": {
      "text/plain": [
       "0      Flask-SQLAlchemy - tables/databases created de...\n",
       "1                    Combining PHP variables MySQL query\n",
       "2      'Counting' number records match certain criter...\n",
       "3         Insert new row table auto id number. Php MySQL\n",
       "4                       Create Multiple MySQL tables PHP\n",
       "                             ...                        \n",
       "139               Executing \"SELECT ... ... ...\" MySQLdb\n",
       "140                              SQLAlchemy reconnect db\n",
       "141                      mysql Count Distinct result php\n",
       "142    store result radio button database value, data...\n",
       "143                 Use SQL count result statement - PHP\n",
       "Name: title, Length: 144, dtype: object"
      ]
     },
     "execution_count": 12,
     "metadata": {},
     "output_type": "execute_result"
    }
   ],
   "source": [
    "df['title'].apply(nfx.remove_stopwords)"
   ]
  },
  {
   "cell_type": "code",
   "execution_count": null,
   "id": "3802ae25",
   "metadata": {},
   "outputs": [],
   "source": []
  },
  {
   "cell_type": "code",
   "execution_count": 13,
   "id": "82c5ba16",
   "metadata": {},
   "outputs": [],
   "source": [
    "corpus = df['title'].apply(nfx.remove_stopwords)"
   ]
  },
  {
   "cell_type": "code",
   "execution_count": null,
   "id": "b1011a96",
   "metadata": {},
   "outputs": [],
   "source": []
  },
  {
   "cell_type": "code",
   "execution_count": 14,
   "id": "2fee7cbd",
   "metadata": {},
   "outputs": [],
   "source": [
    "tfidf = TfidfVectorizer()"
   ]
  },
  {
   "cell_type": "code",
   "execution_count": null,
   "id": "5ee3a3ac",
   "metadata": {},
   "outputs": [],
   "source": []
  },
  {
   "cell_type": "code",
   "execution_count": 15,
   "id": "8f839147",
   "metadata": {},
   "outputs": [],
   "source": [
    "Xfeatures = tfidf.fit_transform(corpus).toarray()"
   ]
  },
  {
   "cell_type": "code",
   "execution_count": 16,
   "id": "6e7d75c0",
   "metadata": {},
   "outputs": [
    {
     "data": {
      "text/plain": [
       "array([[0., 0., 0., ..., 0., 0., 0.],\n",
       "       [0., 0., 0., ..., 0., 0., 0.],\n",
       "       [0., 0., 0., ..., 0., 0., 0.],\n",
       "       ...,\n",
       "       [0., 0., 0., ..., 0., 0., 0.],\n",
       "       [0., 0., 0., ..., 0., 0., 0.],\n",
       "       [0., 0., 0., ..., 0., 0., 0.]])"
      ]
     },
     "execution_count": 16,
     "metadata": {},
     "output_type": "execute_result"
    }
   ],
   "source": [
    "Xfeatures"
   ]
  },
  {
   "cell_type": "code",
   "execution_count": 17,
   "id": "711ca912",
   "metadata": {},
   "outputs": [],
   "source": [
    "y = df[['mysql', 'python', 'php']]"
   ]
  },
  {
   "cell_type": "code",
   "execution_count": 18,
   "id": "9100a9c9",
   "metadata": {},
   "outputs": [],
   "source": [
    "X_train,X_test,y_train,y_test = train_test_split(Xfeatures,y,test_size=0.3,random_state=42)"
   ]
  },
  {
   "cell_type": "markdown",
   "id": "2611fa5f",
   "metadata": {},
   "source": [
    "# 1)Problem Transformation Method"
   ]
  },
  {
   "cell_type": "code",
   "execution_count": 19,
   "id": "e1389037",
   "metadata": {},
   "outputs": [],
   "source": [
    "#Binary relevance technique"
   ]
  },
  {
   "cell_type": "code",
   "execution_count": 20,
   "id": "962faa65",
   "metadata": {},
   "outputs": [],
   "source": [
    "binary_rel_clf = BinaryRelevance(MultinomialNB())"
   ]
  },
  {
   "cell_type": "code",
   "execution_count": 21,
   "id": "abe863a4",
   "metadata": {},
   "outputs": [
    {
     "data": {
      "text/plain": [
       "BinaryRelevance(classifier=MultinomialNB(), require_dense=[True, True])"
      ]
     },
     "execution_count": 21,
     "metadata": {},
     "output_type": "execute_result"
    }
   ],
   "source": [
    "binary_rel_clf.fit(X_train,y_train)"
   ]
  },
  {
   "cell_type": "code",
   "execution_count": null,
   "id": "9ba0585a",
   "metadata": {},
   "outputs": [],
   "source": []
  },
  {
   "cell_type": "code",
   "execution_count": 22,
   "id": "07c2dfac",
   "metadata": {},
   "outputs": [],
   "source": [
    "br_prediction = binary_rel_clf.predict(X_test)"
   ]
  },
  {
   "cell_type": "code",
   "execution_count": 23,
   "id": "8b3115ae",
   "metadata": {},
   "outputs": [
    {
     "data": {
      "text/plain": [
       "array([[1., 0., 1.],\n",
       "       [1., 0., 1.],\n",
       "       [1., 1., 0.],\n",
       "       [1., 0., 1.],\n",
       "       [1., 0., 1.],\n",
       "       [1., 0., 1.],\n",
       "       [1., 0., 1.],\n",
       "       [1., 1., 0.],\n",
       "       [1., 1., 0.],\n",
       "       [1., 0., 1.],\n",
       "       [1., 0., 1.],\n",
       "       [1., 0., 1.],\n",
       "       [1., 0., 1.],\n",
       "       [1., 1., 0.],\n",
       "       [1., 0., 1.],\n",
       "       [1., 0., 1.],\n",
       "       [1., 0., 1.],\n",
       "       [1., 0., 1.],\n",
       "       [1., 0., 1.],\n",
       "       [1., 1., 0.],\n",
       "       [1., 1., 0.],\n",
       "       [1., 1., 0.],\n",
       "       [1., 0., 1.],\n",
       "       [1., 0., 1.],\n",
       "       [1., 0., 1.],\n",
       "       [1., 0., 1.],\n",
       "       [1., 0., 1.],\n",
       "       [1., 0., 1.],\n",
       "       [1., 0., 1.],\n",
       "       [1., 1., 0.],\n",
       "       [1., 1., 0.],\n",
       "       [1., 1., 0.],\n",
       "       [1., 0., 1.],\n",
       "       [1., 1., 0.],\n",
       "       [1., 1., 0.],\n",
       "       [1., 1., 0.],\n",
       "       [1., 0., 1.],\n",
       "       [1., 0., 1.],\n",
       "       [1., 1., 0.],\n",
       "       [1., 0., 1.],\n",
       "       [1., 1., 0.],\n",
       "       [1., 0., 1.],\n",
       "       [1., 1., 0.],\n",
       "       [1., 1., 0.]])"
      ]
     },
     "execution_count": 23,
     "metadata": {},
     "output_type": "execute_result"
    }
   ],
   "source": [
    "br_prediction.toarray()"
   ]
  },
  {
   "cell_type": "code",
   "execution_count": null,
   "id": "bfd4993f",
   "metadata": {},
   "outputs": [],
   "source": []
  },
  {
   "cell_type": "code",
   "execution_count": 24,
   "id": "661d9dac",
   "metadata": {},
   "outputs": [
    {
     "data": {
      "text/plain": [
       "0.9090909090909091"
      ]
     },
     "execution_count": 24,
     "metadata": {},
     "output_type": "execute_result"
    }
   ],
   "source": [
    "accuracy_score(y_test,br_prediction)"
   ]
  },
  {
   "cell_type": "code",
   "execution_count": 25,
   "id": "d0c435e3",
   "metadata": {},
   "outputs": [
    {
     "data": {
      "text/plain": [
       "0.06060606060606061"
      ]
     },
     "execution_count": 25,
     "metadata": {},
     "output_type": "execute_result"
    }
   ],
   "source": [
    "hamming_loss(y_test,br_prediction)"
   ]
  },
  {
   "cell_type": "code",
   "execution_count": null,
   "id": "cdfdab1e",
   "metadata": {},
   "outputs": [],
   "source": []
  },
  {
   "cell_type": "code",
   "execution_count": 26,
   "id": "2ca987ad",
   "metadata": {},
   "outputs": [],
   "source": [
    "#Classifier chains technique"
   ]
  },
  {
   "cell_type": "code",
   "execution_count": null,
   "id": "f974e5aa",
   "metadata": {},
   "outputs": [],
   "source": []
  },
  {
   "cell_type": "code",
   "execution_count": 27,
   "id": "afd04a68",
   "metadata": {},
   "outputs": [],
   "source": [
    "def build_model(model,mlb_estimator,xtrain,ytrain,xtest,ytest):\n",
    "    clf = mlb_estimator(model)\n",
    "    clf.fit(xtrain,ytrain)\n",
    "    clf_predictions = clf.predict(xtest)\n",
    "    acc = accuracy_score(ytest,clf_predictions)\n",
    "    ham = hamming_loss(ytest,clf_predictions)\n",
    "    result = {\"accuracy:\":acc,\"hamming_score\":ham}\n",
    "    return result"
   ]
  },
  {
   "cell_type": "code",
   "execution_count": null,
   "id": "95507754",
   "metadata": {},
   "outputs": [],
   "source": []
  },
  {
   "cell_type": "code",
   "execution_count": 28,
   "id": "084e8d53",
   "metadata": {},
   "outputs": [],
   "source": [
    "clf_chain_model = build_model(MultinomialNB(),ClassifierChain,X_train,y_train,X_test,y_test)"
   ]
  },
  {
   "cell_type": "code",
   "execution_count": 29,
   "id": "989b1d0d",
   "metadata": {},
   "outputs": [
    {
     "data": {
      "text/plain": [
       "{'accuracy:': 0.8409090909090909, 'hamming_score': 0.10606060606060606}"
      ]
     },
     "execution_count": 29,
     "metadata": {},
     "output_type": "execute_result"
    }
   ],
   "source": [
    "clf_chain_model"
   ]
  },
  {
   "cell_type": "code",
   "execution_count": null,
   "id": "42cec42d",
   "metadata": {},
   "outputs": [],
   "source": []
  },
  {
   "cell_type": "code",
   "execution_count": 30,
   "id": "354a8882",
   "metadata": {},
   "outputs": [],
   "source": [
    "#Labelpowerset technique"
   ]
  },
  {
   "cell_type": "code",
   "execution_count": null,
   "id": "2ee841f4",
   "metadata": {},
   "outputs": [],
   "source": []
  },
  {
   "cell_type": "code",
   "execution_count": 31,
   "id": "e7924dd5",
   "metadata": {},
   "outputs": [],
   "source": [
    "lf_labelP_model = build_model(MultinomialNB(),LabelPowerset,X_train,y_train,X_test,y_test)"
   ]
  },
  {
   "cell_type": "code",
   "execution_count": null,
   "id": "a6922d18",
   "metadata": {},
   "outputs": [],
   "source": []
  },
  {
   "cell_type": "code",
   "execution_count": 32,
   "id": "43e2eaf5",
   "metadata": {},
   "outputs": [
    {
     "data": {
      "text/plain": [
       "{'accuracy:': 0.9090909090909091, 'hamming_score': 0.06060606060606061}"
      ]
     },
     "execution_count": 32,
     "metadata": {},
     "output_type": "execute_result"
    }
   ],
   "source": [
    "lf_labelP_model"
   ]
  },
  {
   "cell_type": "code",
   "execution_count": null,
   "id": "243cafc3",
   "metadata": {},
   "outputs": [],
   "source": []
  },
  {
   "cell_type": "code",
   "execution_count": 33,
   "id": "9a3948f1",
   "metadata": {},
   "outputs": [],
   "source": [
    "#Making a single prediction"
   ]
  },
  {
   "cell_type": "code",
   "execution_count": null,
   "id": "55db46ea",
   "metadata": {},
   "outputs": [],
   "source": []
  },
  {
   "cell_type": "code",
   "execution_count": 34,
   "id": "fbe35a05",
   "metadata": {},
   "outputs": [],
   "source": [
    "ex1 = df['title'].iloc[0]"
   ]
  },
  {
   "cell_type": "code",
   "execution_count": 35,
   "id": "4cf2d367",
   "metadata": {},
   "outputs": [],
   "source": [
    "vec_example = tfidf.transform([ex1])"
   ]
  },
  {
   "cell_type": "code",
   "execution_count": 36,
   "id": "52e36937",
   "metadata": {},
   "outputs": [
    {
     "data": {
      "text/plain": [
       "array([[1., 1., 0.]])"
      ]
     },
     "execution_count": 36,
     "metadata": {},
     "output_type": "execute_result"
    }
   ],
   "source": [
    "binary_rel_clf.predict(vec_example).toarray()"
   ]
  },
  {
   "cell_type": "code",
   "execution_count": null,
   "id": "59a0f784",
   "metadata": {},
   "outputs": [],
   "source": []
  },
  {
   "cell_type": "markdown",
   "id": "913c68fa",
   "metadata": {},
   "source": [
    "# 2)Adapted Algorithm Method"
   ]
  },
  {
   "cell_type": "code",
   "execution_count": null,
   "id": "eec0c1c8",
   "metadata": {},
   "outputs": [],
   "source": []
  },
  {
   "cell_type": "code",
   "execution_count": 38,
   "id": "8827257f",
   "metadata": {},
   "outputs": [
    {
     "data": {
      "text/plain": [
       "0"
      ]
     },
     "execution_count": 38,
     "metadata": {},
     "output_type": "execute_result"
    }
   ],
   "source": [
    "from scipy import sparse\n",
    "import gc\n",
    "\n",
    "f = open(r'/home/reenal/personal/multiclass_multilable_claffication/Mediamill_data.txt',\n",
    "'r',encoding='utf-8')\n",
    "#f = open(r'C:\\Users\\kaoyuant\\Downloads\\Mediamill\\Mediamill_data.txt',\n",
    "#         'r',encoding='utf-8')\n",
    "\n",
    "size = f.readline()\n",
    "nrows, nfeature,nlabel = [int(s) for s in size.split()]\n",
    "x_m = [[] for i in range(nrows)]\n",
    "pos = [[] for i in range(nrows)]\n",
    "y_m = [[] for i in range(nrows)]\n",
    "\n",
    "for i in range(nrows):\n",
    "    line = f.readline()\n",
    "    temp=[s for s in line.split(sep=' ')]\n",
    "    pos[i]=[int(s.split(':')[0]) for s in temp[1:]]\n",
    "    x_m[i]=[float(s.split(':')[1]) for s in temp[1:]]\n",
    "    for s in temp[0].split(','):\n",
    "        try:\n",
    "            int(s)\n",
    "            y_m[i]=[ int(s) for s in temp[0].split(',')]\n",
    "        except:\n",
    "            y_m[i]=[]\n",
    "\n",
    "\n",
    "\n",
    "\n",
    "f = open(r'/home/reenal/personal/multiclass_multilable_claffication/mediamill_trSplit.txt',\n",
    "'r',encoding='utf-8')\n",
    "\n",
    "train=f.readlines()\n",
    "\n",
    "f = open(r'/home/reenal/personal/multiclass_multilable_claffication/mediamill_tstSplit.txt',\n",
    "'r',encoding='utf-8')\n",
    "\n",
    "test=f.readlines()\n",
    "\n",
    "\n",
    "select=0\n",
    "train_=[int(s.split()[select])-1 for s in train]\n",
    "test_=[int(s.split()[select])-1 for s in test]\n",
    "\n",
    "xm_train=[x_m[i] for i in train_]\n",
    "ym_train=[y_m[i] for i in train_]\n",
    "\n",
    "xm_test=[x_m[i] for i in test_]\n",
    "ym_test=[y_m[i] for i in test_]\n",
    "\n",
    "\n",
    "\n",
    "x_train=sparse.lil_matrix((len(train_),nfeature))\n",
    "for i in range(len(train_)):\n",
    "    for j in range(len(pos[i])):\n",
    "        x_train[i,pos[i][j]]=xm_train[i][j]\n",
    "\n",
    "x_test=sparse.lil_matrix((len(test_),nfeature))\n",
    "for i in range(len(test_)):\n",
    "    for j in range(len(pos[i])):\n",
    "        x_test[i,pos[i][j]]=xm_test[i][j]\n",
    "\n",
    "del x_m, xm_train, pos,xm_test\n",
    "gc.collect()\n",
    "\n",
    "y_train=sparse.lil_matrix((len(train_),nlabel))\n",
    "for i in range(len(train_)):\n",
    "    for j in ym_train[i]:\n",
    "        y_train[i,j]=1\n",
    "\n",
    "y_test=sparse.lil_matrix((len(test_),nlabel))\n",
    "for i in range(len(test_)):\n",
    "    for j in ym_test[i]:\n",
    "        y_test[i,j]=1\n",
    "\n",
    "del y_m, ym_train, ym_test\n",
    "gc.collect()  "
   ]
  },
  {
   "cell_type": "code",
   "execution_count": null,
   "id": "1c4bebca",
   "metadata": {},
   "outputs": [],
   "source": []
  },
  {
   "cell_type": "code",
   "execution_count": null,
   "id": "b196b4c7",
   "metadata": {},
   "outputs": [],
   "source": [
    "Label Graph\n",
    "When the label space is large, we can try to explore it using graph methods. Each label is a node in the graph and an edge exists when labels co-occur,\n",
    "weighted by the frequency of co-occurrence."
   ]
  },
  {
   "cell_type": "code",
   "execution_count": null,
   "id": "329e4221",
   "metadata": {},
   "outputs": [],
   "source": []
  },
  {
   "cell_type": "code",
   "execution_count": 39,
   "id": "6dde4a52",
   "metadata": {},
   "outputs": [
    {
     "name": "stdout",
     "output_type": "stream",
     "text": [
      "101 labels, 2213 edges\n"
     ]
    }
   ],
   "source": [
    "from skmultilearn.cluster import LabelCooccurrenceGraphBuilder\n",
    "graph_builder = LabelCooccurrenceGraphBuilder(weighted=True,\n",
    "                                              include_self_edges=False)\n",
    "\n",
    "label_names=[i for i in range(nlabel)]\n",
    "edge_map = graph_builder.transform(y_train)\n",
    "print(\"{} labels, {} edges\".format(len(label_names), len(edge_map)))\n"
   ]
  },
  {
   "cell_type": "code",
   "execution_count": null,
   "id": "08d36fba",
   "metadata": {},
   "outputs": [],
   "source": []
  },
  {
   "cell_type": "code",
   "execution_count": 42,
   "id": "b48329ad",
   "metadata": {},
   "outputs": [],
   "source": [
    "#from skmultilearn.cluster import NetworkXLabelGraphClusterer\n",
    "from skmultilearn.cluster.networkx import NetworkXLabelGraphClusterer\n",
    "\n",
    "# we define a helper function for visualization purposes\n",
    "def to_membership_vector(partition):\n",
    "    return {\n",
    "        member :  partition_id\n",
    "        for partition_id, members in enumerate(partition)\n",
    "        for member in members\n",
    "    }\n",
    "clusterer = NetworkXLabelGraphClusterer(graph_builder, method='louvain')\n"
   ]
  },
  {
   "cell_type": "code",
   "execution_count": 43,
   "id": "49d7b253",
   "metadata": {},
   "outputs": [
    {
     "name": "stdout",
     "output_type": "stream",
     "text": [
      "There are 3 clusters\n"
     ]
    },
    {
     "name": "stderr",
     "output_type": "stream",
     "text": [
      "/home/reenal/anaconda3/envs/multilable/lib/python3.9/site-packages/skmultilearn/cluster/networkx.py:163: VisibleDeprecationWarning: Creating an ndarray from ragged nested sequences (which is a list-or-tuple of lists-or-tuples-or ndarrays with different lengths or shapes) is deprecated. If you meant to do this, you must specify 'dtype=object' when creating the ndarray.\n",
      "  return np.array(\n"
     ]
    }
   ],
   "source": [
    "partition = clusterer.fit_predict(x_train,y_train)\n",
    "membership_vector = to_membership_vector(partition)\n",
    "print('There are', len(partition),'clusters')"
   ]
  },
  {
   "cell_type": "code",
   "execution_count": null,
   "id": "f5318673",
   "metadata": {},
   "outputs": [],
   "source": []
  },
  {
   "cell_type": "code",
   "execution_count": 44,
   "id": "ee0080e3",
   "metadata": {},
   "outputs": [
    {
     "data": {
      "image/png": "[encoded data removed]",
      "text/plain": [
       "<Figure size 432x288 with 1 Axes>"
      ]
     },
     "metadata": {},
     "output_type": "display_data"
    }
   ],
   "source": [
    "import networkx as nx\n",
    "names_dict = dict(enumerate(x for x in label_names))\n",
    "import matplotlib.pyplot as plt\n",
    "%matplotlib inline\n",
    "nx.draw(\n",
    "    clusterer.graph_,\n",
    "    pos=nx.spring_layout(clusterer.graph_,k=4),\n",
    "    labels=names_dict,\n",
    "    with_labels = True,\n",
    "    width = [10*x/y_train.shape[0] for x in clusterer.weights_['weight']],\n",
    "    node_color = [membership_vector[i] for i in range(y_train.shape[1])],\n",
    "    cmap=plt.cm.viridis,\n",
    "    node_size=250,\n",
    "    font_size=10,\n",
    "    font_color='white',\n",
    "    alpha=0.8\n",
    ")"
   ]
  },
  {
   "cell_type": "code",
   "execution_count": null,
   "id": "32fb0638",
   "metadata": {},
   "outputs": [],
   "source": []
  },
  {
   "cell_type": "code",
   "execution_count": 45,
   "id": "3dcf6e00",
   "metadata": {},
   "outputs": [
    {
     "name": "stderr",
     "output_type": "stream",
     "text": [
      "/home/reenal/anaconda3/envs/multilable/lib/python3.9/site-packages/sklearn/utils/validation.py:70: FutureWarning: Pass n_neighbors=1 as keyword args. From version 1.0 (renaming of 0.25) passing these as positional arguments will result in an error\n",
      "  warnings.warn(f\"Pass {args_msg} as keyword args. From version \"\n",
      "/home/reenal/anaconda3/envs/multilable/lib/python3.9/site-packages/sklearn/utils/validation.py:70: FutureWarning: Pass n_neighbors=1 as keyword args. From version 1.0 (renaming of 0.25) passing these as positional arguments will result in an error\n",
      "  warnings.warn(f\"Pass {args_msg} as keyword args. From version \"\n",
      "/home/reenal/anaconda3/envs/multilable/lib/python3.9/site-packages/sklearn/utils/validation.py:70: FutureWarning: Pass n_neighbors=1 as keyword args. From version 1.0 (renaming of 0.25) passing these as positional arguments will result in an error\n",
      "  warnings.warn(f\"Pass {args_msg} as keyword args. From version \"\n",
      "/home/reenal/anaconda3/envs/multilable/lib/python3.9/site-packages/sklearn/utils/validation.py:70: FutureWarning: Pass n_neighbors=1 as keyword args. From version 1.0 (renaming of 0.25) passing these as positional arguments will result in an error\n",
      "  warnings.warn(f\"Pass {args_msg} as keyword args. From version \"\n",
      "/home/reenal/anaconda3/envs/multilable/lib/python3.9/site-packages/sklearn/utils/validation.py:70: FutureWarning: Pass n_neighbors=1 as keyword args. From version 1.0 (renaming of 0.25) passing these as positional arguments will result in an error\n",
      "  warnings.warn(f\"Pass {args_msg} as keyword args. From version \"\n",
      "/home/reenal/anaconda3/envs/multilable/lib/python3.9/site-packages/sklearn/utils/validation.py:70: FutureWarning: Pass n_neighbors=1 as keyword args. From version 1.0 (renaming of 0.25) passing these as positional arguments will result in an error\n",
      "  warnings.warn(f\"Pass {args_msg} as keyword args. From version \"\n",
      "/home/reenal/anaconda3/envs/multilable/lib/python3.9/site-packages/sklearn/utils/validation.py:70: FutureWarning: Pass n_neighbors=1 as keyword args. From version 1.0 (renaming of 0.25) passing these as positional arguments will result in an error\n",
      "  warnings.warn(f\"Pass {args_msg} as keyword args. From version \"\n",
      "/home/reenal/anaconda3/envs/multilable/lib/python3.9/site-packages/sklearn/utils/validation.py:70: FutureWarning: Pass n_neighbors=1 as keyword args. From version 1.0 (renaming of 0.25) passing these as positional arguments will result in an error\n",
      "  warnings.warn(f\"Pass {args_msg} as keyword args. From version \"\n",
      "/home/reenal/anaconda3/envs/multilable/lib/python3.9/site-packages/sklearn/utils/validation.py:70: FutureWarning: Pass n_neighbors=1 as keyword args. From version 1.0 (renaming of 0.25) passing these as positional arguments will result in an error\n",
      "  warnings.warn(f\"Pass {args_msg} as keyword args. From version \"\n",
      "/home/reenal/anaconda3/envs/multilable/lib/python3.9/site-packages/sklearn/utils/validation.py:70: FutureWarning: Pass n_neighbors=1 as keyword args. From version 1.0 (renaming of 0.25) passing these as positional arguments will result in an error\n",
      "  warnings.warn(f\"Pass {args_msg} as keyword args. From version \"\n",
      "/home/reenal/anaconda3/envs/multilable/lib/python3.9/site-packages/sklearn/utils/validation.py:70: FutureWarning: Pass n_neighbors=1 as keyword args. From version 1.0 (renaming of 0.25) passing these as positional arguments will result in an error\n",
      "  warnings.warn(f\"Pass {args_msg} as keyword args. From version \"\n",
      "/home/reenal/anaconda3/envs/multilable/lib/python3.9/site-packages/sklearn/utils/validation.py:70: FutureWarning: Pass n_neighbors=1 as keyword args. From version 1.0 (renaming of 0.25) passing these as positional arguments will result in an error\n",
      "  warnings.warn(f\"Pass {args_msg} as keyword args. From version \"\n",
      "/home/reenal/anaconda3/envs/multilable/lib/python3.9/site-packages/sklearn/utils/validation.py:70: FutureWarning: Pass n_neighbors=1 as keyword args. From version 1.0 (renaming of 0.25) passing these as positional arguments will result in an error\n",
      "  warnings.warn(f\"Pass {args_msg} as keyword args. From version \"\n",
      "/home/reenal/anaconda3/envs/multilable/lib/python3.9/site-packages/sklearn/utils/validation.py:70: FutureWarning: Pass n_neighbors=1 as keyword args. From version 1.0 (renaming of 0.25) passing these as positional arguments will result in an error\n",
      "  warnings.warn(f\"Pass {args_msg} as keyword args. From version \"\n",
      "/home/reenal/anaconda3/envs/multilable/lib/python3.9/site-packages/sklearn/utils/validation.py:70: FutureWarning: Pass n_neighbors=1 as keyword args. From version 1.0 (renaming of 0.25) passing these as positional arguments will result in an error\n",
      "  warnings.warn(f\"Pass {args_msg} as keyword args. From version \"\n",
      "/home/reenal/anaconda3/envs/multilable/lib/python3.9/site-packages/sklearn/utils/validation.py:70: FutureWarning: Pass n_neighbors=2 as keyword args. From version 1.0 (renaming of 0.25) passing these as positional arguments will result in an error\n",
      "  warnings.warn(f\"Pass {args_msg} as keyword args. From version \"\n",
      "/home/reenal/anaconda3/envs/multilable/lib/python3.9/site-packages/sklearn/utils/validation.py:70: FutureWarning: Pass n_neighbors=2 as keyword args. From version 1.0 (renaming of 0.25) passing these as positional arguments will result in an error\n",
      "  warnings.warn(f\"Pass {args_msg} as keyword args. From version \"\n",
      "/home/reenal/anaconda3/envs/multilable/lib/python3.9/site-packages/sklearn/utils/validation.py:70: FutureWarning: Pass n_neighbors=2 as keyword args. From version 1.0 (renaming of 0.25) passing these as positional arguments will result in an error\n",
      "  warnings.warn(f\"Pass {args_msg} as keyword args. From version \"\n",
      "/home/reenal/anaconda3/envs/multilable/lib/python3.9/site-packages/sklearn/utils/validation.py:70: FutureWarning: Pass n_neighbors=2 as keyword args. From version 1.0 (renaming of 0.25) passing these as positional arguments will result in an error\n",
      "  warnings.warn(f\"Pass {args_msg} as keyword args. From version \"\n",
      "/home/reenal/anaconda3/envs/multilable/lib/python3.9/site-packages/sklearn/utils/validation.py:70: FutureWarning: Pass n_neighbors=2 as keyword args. From version 1.0 (renaming of 0.25) passing these as positional arguments will result in an error\n",
      "  warnings.warn(f\"Pass {args_msg} as keyword args. From version \"\n",
      "/home/reenal/anaconda3/envs/multilable/lib/python3.9/site-packages/sklearn/utils/validation.py:70: FutureWarning: Pass n_neighbors=2 as keyword args. From version 1.0 (renaming of 0.25) passing these as positional arguments will result in an error\n",
      "  warnings.warn(f\"Pass {args_msg} as keyword args. From version \"\n",
      "/home/reenal/anaconda3/envs/multilable/lib/python3.9/site-packages/sklearn/utils/validation.py:70: FutureWarning: Pass n_neighbors=2 as keyword args. From version 1.0 (renaming of 0.25) passing these as positional arguments will result in an error\n",
      "  warnings.warn(f\"Pass {args_msg} as keyword args. From version \"\n",
      "/home/reenal/anaconda3/envs/multilable/lib/python3.9/site-packages/sklearn/utils/validation.py:70: FutureWarning: Pass n_neighbors=2 as keyword args. From version 1.0 (renaming of 0.25) passing these as positional arguments will result in an error\n",
      "  warnings.warn(f\"Pass {args_msg} as keyword args. From version \"\n",
      "/home/reenal/anaconda3/envs/multilable/lib/python3.9/site-packages/sklearn/utils/validation.py:70: FutureWarning: Pass n_neighbors=2 as keyword args. From version 1.0 (renaming of 0.25) passing these as positional arguments will result in an error\n",
      "  warnings.warn(f\"Pass {args_msg} as keyword args. From version \"\n",
      "/home/reenal/anaconda3/envs/multilable/lib/python3.9/site-packages/sklearn/utils/validation.py:70: FutureWarning: Pass n_neighbors=2 as keyword args. From version 1.0 (renaming of 0.25) passing these as positional arguments will result in an error\n",
      "  warnings.warn(f\"Pass {args_msg} as keyword args. From version \"\n",
      "/home/reenal/anaconda3/envs/multilable/lib/python3.9/site-packages/sklearn/utils/validation.py:70: FutureWarning: Pass n_neighbors=2 as keyword args. From version 1.0 (renaming of 0.25) passing these as positional arguments will result in an error\n",
      "  warnings.warn(f\"Pass {args_msg} as keyword args. From version \"\n",
      "/home/reenal/anaconda3/envs/multilable/lib/python3.9/site-packages/sklearn/utils/validation.py:70: FutureWarning: Pass n_neighbors=2 as keyword args. From version 1.0 (renaming of 0.25) passing these as positional arguments will result in an error\n",
      "  warnings.warn(f\"Pass {args_msg} as keyword args. From version \"\n"
     ]
    },
    {
     "name": "stderr",
     "output_type": "stream",
     "text": [
      "/home/reenal/anaconda3/envs/multilable/lib/python3.9/site-packages/sklearn/utils/validation.py:70: FutureWarning: Pass n_neighbors=2 as keyword args. From version 1.0 (renaming of 0.25) passing these as positional arguments will result in an error\n",
      "  warnings.warn(f\"Pass {args_msg} as keyword args. From version \"\n",
      "/home/reenal/anaconda3/envs/multilable/lib/python3.9/site-packages/sklearn/utils/validation.py:70: FutureWarning: Pass n_neighbors=2 as keyword args. From version 1.0 (renaming of 0.25) passing these as positional arguments will result in an error\n",
      "  warnings.warn(f\"Pass {args_msg} as keyword args. From version \"\n",
      "/home/reenal/anaconda3/envs/multilable/lib/python3.9/site-packages/sklearn/utils/validation.py:70: FutureWarning: Pass n_neighbors=2 as keyword args. From version 1.0 (renaming of 0.25) passing these as positional arguments will result in an error\n",
      "  warnings.warn(f\"Pass {args_msg} as keyword args. From version \"\n",
      "/home/reenal/anaconda3/envs/multilable/lib/python3.9/site-packages/sklearn/utils/validation.py:70: FutureWarning: Pass n_neighbors=1 as keyword args. From version 1.0 (renaming of 0.25) passing these as positional arguments will result in an error\n",
      "  warnings.warn(f\"Pass {args_msg} as keyword args. From version \"\n"
     ]
    },
    {
     "name": "stdout",
     "output_type": "stream",
     "text": [
      "training time taken:  8596.0 seconds\n"
     ]
    },
    {
     "ename": "NameError",
     "evalue": "name 'clf' is not defined",
     "output_type": "error",
     "traceback": [
      "\u001b[0;31m---------------------------------------------------------------------------\u001b[0m",
      "\u001b[0;31mNameError\u001b[0m                                 Traceback (most recent call last)",
      "\u001b[0;32m/tmp/ipykernel_8910/3300736493.py\u001b[0m in \u001b[0;36m<module>\u001b[0;34m\u001b[0m\n\u001b[1;32m     13\u001b[0m \u001b[0mprint\u001b[0m\u001b[0;34m(\u001b[0m\u001b[0;34m'training time taken: '\u001b[0m\u001b[0;34m,\u001b[0m\u001b[0mround\u001b[0m\u001b[0;34m(\u001b[0m\u001b[0mtime\u001b[0m\u001b[0;34m.\u001b[0m\u001b[0mtime\u001b[0m\u001b[0;34m(\u001b[0m\u001b[0;34m)\u001b[0m\u001b[0;34m-\u001b[0m\u001b[0mstart\u001b[0m\u001b[0;34m,\u001b[0m\u001b[0;36m0\u001b[0m\u001b[0;34m)\u001b[0m\u001b[0;34m,\u001b[0m\u001b[0;34m'seconds'\u001b[0m\u001b[0;34m)\u001b[0m\u001b[0;34m\u001b[0m\u001b[0;34m\u001b[0m\u001b[0m\n\u001b[1;32m     14\u001b[0m print('best parameters :', classifier.best_params_, 'best score: ',\n\u001b[0;32m---> 15\u001b[0;31m       clf.best_score_)\n\u001b[0m",
      "\u001b[0;31mNameError\u001b[0m: name 'clf' is not defined"
     ]
    }
   ],
   "source": [
    "from skmultilearn.adapt import MLkNN\n",
    "from sklearn.model_selection import GridSearchCV\n",
    "import time\n",
    "\n",
    "parameters = {'k': range(1,3), 's': [0.5, 0.7, 1.0]}\n",
    "score = 'f1_micro'\n",
    "\n",
    "start=time.time()\n",
    "\n",
    "classifier = GridSearchCV(MLkNN(), parameters, scoring=score)\n",
    "classifier.fit(x_train, y_train)\n",
    "\n",
    "print('training time taken: ',round(time.time()-start,0),'seconds')\n",
    "print('best parameters :', classifier.best_params_, 'best score: ',\n",
    "      clf.best_score_)"
   ]
  },
  {
   "cell_type": "code",
   "execution_count": null,
   "id": "5e3541ef",
   "metadata": {},
   "outputs": [],
   "source": []
  },
  {
   "cell_type": "code",
   "execution_count": 46,
   "id": "e4d9b077",
   "metadata": {},
   "outputs": [
    {
     "name": "stdout",
     "output_type": "stream",
     "text": [
      "best parameters : {'k': 1, 's': 0.5} best score:  0.6091114319422588\n"
     ]
    }
   ],
   "source": [
    "print('best parameters :', classifier.best_params_,\n",
    "      'best score: ',classifier.best_score_)"
   ]
  },
  {
   "cell_type": "code",
   "execution_count": null,
   "id": "760d6bfb",
   "metadata": {},
   "outputs": [],
   "source": []
  },
  {
   "cell_type": "code",
   "execution_count": null,
   "id": "ec76b44a",
   "metadata": {},
   "outputs": [],
   "source": [
    "#Algorithm Adaptation - BRkNNaClassifier"
   ]
  },
  {
   "cell_type": "code",
   "execution_count": 47,
   "id": "bf96a8aa",
   "metadata": {},
   "outputs": [
    {
     "name": "stderr",
     "output_type": "stream",
     "text": [
      "/home/reenal/anaconda3/envs/multilable/lib/python3.9/site-packages/sklearn/utils/validation.py:70: FutureWarning: Pass n_neighbors=3 as keyword args. From version 1.0 (renaming of 0.25) passing these as positional arguments will result in an error\n",
      "  warnings.warn(f\"Pass {args_msg} as keyword args. From version \"\n",
      "/home/reenal/anaconda3/envs/multilable/lib/python3.9/site-packages/sklearn/utils/validation.py:70: FutureWarning: Pass n_neighbors=3 as keyword args. From version 1.0 (renaming of 0.25) passing these as positional arguments will result in an error\n",
      "  warnings.warn(f\"Pass {args_msg} as keyword args. From version \"\n",
      "/home/reenal/anaconda3/envs/multilable/lib/python3.9/site-packages/sklearn/utils/validation.py:70: FutureWarning: Pass n_neighbors=3 as keyword args. From version 1.0 (renaming of 0.25) passing these as positional arguments will result in an error\n",
      "  warnings.warn(f\"Pass {args_msg} as keyword args. From version \"\n",
      "/home/reenal/anaconda3/envs/multilable/lib/python3.9/site-packages/sklearn/utils/validation.py:70: FutureWarning: Pass n_neighbors=3 as keyword args. From version 1.0 (renaming of 0.25) passing these as positional arguments will result in an error\n",
      "  warnings.warn(f\"Pass {args_msg} as keyword args. From version \"\n",
      "/home/reenal/anaconda3/envs/multilable/lib/python3.9/site-packages/sklearn/utils/validation.py:70: FutureWarning: Pass n_neighbors=3 as keyword args. From version 1.0 (renaming of 0.25) passing these as positional arguments will result in an error\n",
      "  warnings.warn(f\"Pass {args_msg} as keyword args. From version \"\n",
      "/home/reenal/anaconda3/envs/multilable/lib/python3.9/site-packages/sklearn/utils/validation.py:70: FutureWarning: Pass n_neighbors=4 as keyword args. From version 1.0 (renaming of 0.25) passing these as positional arguments will result in an error\n",
      "  warnings.warn(f\"Pass {args_msg} as keyword args. From version \"\n",
      "/home/reenal/anaconda3/envs/multilable/lib/python3.9/site-packages/sklearn/utils/validation.py:70: FutureWarning: Pass n_neighbors=4 as keyword args. From version 1.0 (renaming of 0.25) passing these as positional arguments will result in an error\n",
      "  warnings.warn(f\"Pass {args_msg} as keyword args. From version \"\n",
      "/home/reenal/anaconda3/envs/multilable/lib/python3.9/site-packages/sklearn/utils/validation.py:70: FutureWarning: Pass n_neighbors=4 as keyword args. From version 1.0 (renaming of 0.25) passing these as positional arguments will result in an error\n",
      "  warnings.warn(f\"Pass {args_msg} as keyword args. From version \"\n",
      "/home/reenal/anaconda3/envs/multilable/lib/python3.9/site-packages/sklearn/utils/validation.py:70: FutureWarning: Pass n_neighbors=4 as keyword args. From version 1.0 (renaming of 0.25) passing these as positional arguments will result in an error\n",
      "  warnings.warn(f\"Pass {args_msg} as keyword args. From version \"\n",
      "/home/reenal/anaconda3/envs/multilable/lib/python3.9/site-packages/sklearn/utils/validation.py:70: FutureWarning: Pass n_neighbors=4 as keyword args. From version 1.0 (renaming of 0.25) passing these as positional arguments will result in an error\n",
      "  warnings.warn(f\"Pass {args_msg} as keyword args. From version \"\n"
     ]
    },
    {
     "name": "stdout",
     "output_type": "stream",
     "text": [
      "training time taken:  371.0 seconds\n",
      "best parameters : {'k': 3} best score:  0.6117931106531971\n"
     ]
    },
    {
     "name": "stderr",
     "output_type": "stream",
     "text": [
      "/home/reenal/anaconda3/envs/multilable/lib/python3.9/site-packages/sklearn/utils/validation.py:70: FutureWarning: Pass n_neighbors=3 as keyword args. From version 1.0 (renaming of 0.25) passing these as positional arguments will result in an error\n",
      "  warnings.warn(f\"Pass {args_msg} as keyword args. From version \"\n"
     ]
    }
   ],
   "source": [
    "from skmultilearn.adapt import BRkNNaClassifier\n",
    "\n",
    "parameters = {'k': range(3,5)}\n",
    "score = 'f1_micro'\n",
    "\n",
    "start=time.time()\n",
    "\n",
    "classifier = GridSearchCV(BRkNNaClassifier(), parameters, scoring=score)\n",
    "classifier.fit(x_train, y_train)\n",
    "\n",
    "print('training time taken: ',round(time.time()-start,0),'seconds')\n",
    "print('best parameters :', classifier.best_params_,\n",
    "      'best score: ',classifier.best_score_)\n"
   ]
  },
  {
   "cell_type": "code",
   "execution_count": null,
   "id": "46c3cbd9",
   "metadata": {},
   "outputs": [],
   "source": []
  },
  {
   "cell_type": "code",
   "execution_count": null,
   "id": "95374f7d",
   "metadata": {},
   "outputs": [],
   "source": []
  },
  {
   "cell_type": "code",
   "execution_count": null,
   "id": "2e83a5ab",
   "metadata": {},
   "outputs": [],
   "source": []
  },
  {
   "cell_type": "code",
   "execution_count": null,
   "id": "9b5c29cb",
   "metadata": {},
   "outputs": [],
   "source": []
  },
  {
   "cell_type": "code",
   "execution_count": null,
   "id": "2dd844fa",
   "metadata": {},
   "outputs": [],
   "source": []
  },
  {
   "cell_type": "code",
   "execution_count": null,
   "id": "5183a8d3",
   "metadata": {},
   "outputs": [],
   "source": []
  },
  {
   "cell_type": "code",
   "execution_count": null,
   "id": "47e26657",
   "metadata": {},
   "outputs": [],
   "source": []
  }
 ],
 "metadata": {
  "kernelspec": {
   "display_name": "Python 3",
   "language": "python",
   "name": "python3"
  },
  "language_info": {
   "codemirror_mode": {
    "name": "ipython",
    "version": 3
   },
   "file_extension": ".py",
   "mimetype": "text/x-python",
   "name": "python",
   "nbconvert_exporter": "python",
   "pygments_lexer": "ipython3",
   "version": "3.8.10"
  },
  "vscode": {
   "interpreter": {
    "hash": "916dbcbb3f70747c44a77c7bcd40155683ae19c65e1c03b4aa3499c5328201f1"
   }
  }
 },
 "nbformat": 4,
 "nbformat_minor": 5
}
